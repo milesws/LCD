{
 "cells": [
  {
   "cell_type": "code",
   "execution_count": 171,
   "metadata": {},
   "outputs": [],
   "source": [
    "import pandas as pd\n",
    "import numpy as np\n",
    "import seaborn as sns\n",
    "import matplotlib.pyplot as plt\n",
    "from collections import Counter\n",
    "from sklearn.model_selection import train_test_split\n",
    "from sklearn.ensemble import RandomForestRegressor\n",
    "from sklearn.metrics import mean_squared_error"
   ]
  },
  {
   "cell_type": "markdown",
   "metadata": {},
   "source": [
    "## Key\n",
    "data = Original dataset, no changes\n",
    "\n",
    "data_1 = Edited for modeling; Dropped id, member_id, emp_title, url, desc, title, zip_code (because last two digits missing), create dummy variables for categorical data, convert variables with dates to distance in months to January 2017 (for consistency and use in modeling)\n",
    "\n",
    "data_10 = Drop variables with over 50% missing, fill in rest with mean"
   ]
  },
  {
   "cell_type": "code",
   "execution_count": 2,
   "metadata": {},
   "outputs": [],
   "source": [
    "#Change r\"C:\\Users\\Miles Strother\\Desktop\\Kaggle\\LCD\\loan.csv\" \n",
    "data = pd.read_csv(r\"C:\\Users\\Miles Strother\\Desktop\\Kaggle\\LCD\\loan.csv\", low_memory=False)\n",
    "pd.set_option('display.max_columns', 1000)"
   ]
  },
  {
   "cell_type": "markdown",
   "metadata": {},
   "source": [
    "## Clean the data"
   ]
  },
  {
   "cell_type": "code",
   "execution_count": 182,
   "metadata": {},
   "outputs": [],
   "source": [
    "#Drop variables not needed for modeling\n",
    "data_1 = data.drop(['member_id', 'emp_title', 'url', 'desc', 'title', 'zip_code'], axis=1)"
   ]
  },
  {
   "cell_type": "code",
   "execution_count": 183,
   "metadata": {},
   "outputs": [],
   "source": [
    "#Split categorical data into dummy variables\n",
    "categories = ['term', 'grade', 'sub_grade', 'emp_length', 'home_ownership', 'verification_status', 'loan_status', 'pymnt_plan', 'purpose', 'addr_state', 'initial_list_status', 'application_type', 'verification_status_joint']\n",
    "categories_no_loan = ['term', 'grade', 'sub_grade', 'emp_length', 'home_ownership', 'verification_status', 'pymnt_plan', 'purpose', 'addr_state', 'initial_list_status', 'application_type', 'verification_status_joint']\n",
    "data_dummies = pd.get_dummies(data_1[categories])\n",
    "pd.set_option('display.max_columns', 1000)"
   ]
  },
  {
   "cell_type": "code",
   "execution_count": 184,
   "metadata": {},
   "outputs": [],
   "source": [
    "#Drop categorical variables and add dummy variables to data_1\n",
    "data_2 = pd.concat([data_1, data_dummies], axis=1, join_axes=[data_1.index])\n",
    "data_3 = data_2.drop(data_2[categories_no_loan], axis=1)"
   ]
  },
  {
   "cell_type": "code",
   "execution_count": 185,
   "metadata": {},
   "outputs": [],
   "source": [
    "#Create a function to a change variable with dates to distance in months to January 2017\n",
    "date_variables = ['issue_d', 'earliest_cr_line', 'last_pymnt_d', 'next_pymnt_d', 'last_credit_pull_d']\n",
    "def date_func(dataframe, date_variable, new_list):\n",
    "    for x in date_variable:\n",
    "        if x[:3] == 'Jan':\n",
    "            y,z = x.split('-')\n",
    "            a = y.replace(y[:3], '12')\n",
    "            b = ((2016 - int(z[-5:]))*12)\n",
    "            c = int(a) + b\n",
    "            new_list.append(c)\n",
    "        elif x[:3] == 'Feb':\n",
    "            y,z = x.split('-')\n",
    "            a = y.replace(y[:3], '11')\n",
    "            b = ((2016 - int(z[-5:]))*12)\n",
    "            c = int(a) + b\n",
    "            new_list.append(c)\n",
    "        elif x[:3] == 'Mar':\n",
    "            y,z = x.split('-')\n",
    "            a = y.replace(y[:3], '10')\n",
    "            b = ((2016 - int(z[-5:]))*12)\n",
    "            c = int(a) + b\n",
    "            new_list.append(c)\n",
    "        elif x[:3] == 'Apr':\n",
    "            y,z = x.split('-')\n",
    "            a = y.replace(y[:3], '9')\n",
    "            b = ((2016 - int(z[-5:]))*12)\n",
    "            c = int(a) + b\n",
    "            new_list.append(c)\n",
    "        elif x[:3] == 'May':\n",
    "            y,z = x.split('-')\n",
    "            a = y.replace(y[:3], '8')\n",
    "            b = ((2016 - int(z[-5:]))*12)\n",
    "            c = int(a) + b\n",
    "            new_list.append(c)\n",
    "        elif x[:3] == 'Jun':\n",
    "            y,z = x.split('-')\n",
    "            a = y.replace(y[:3], '7')\n",
    "            b = ((2016 - int(z[-5:]))*12)\n",
    "            c = int(a) + b\n",
    "            new_list.append(c)\n",
    "        elif x[:3] == 'Jul':\n",
    "            y,z = x.split('-')\n",
    "            a = y.replace(y[:3], '6')\n",
    "            b = ((2016 - int(z[-5:]))*12)\n",
    "            c = int(a) + b\n",
    "            new_list.append(c)\n",
    "        elif x[:3] == 'Aug':\n",
    "            y,z = x.split('-')\n",
    "            a = y.replace(y[:3], '5')\n",
    "            b = ((2016 - int(z[-5:]))*12)\n",
    "            c = int(a) + b\n",
    "            new_list.append(c)\n",
    "        elif x[:3] == 'Sep':\n",
    "            y,z = x.split('-')\n",
    "            a = y.replace(y[:3], '4')\n",
    "            b = ((2016 - int(z[-5:]))*12)\n",
    "            c = int(a) + b\n",
    "            new_list.append(c)\n",
    "        elif x[:3] == 'Oct':\n",
    "            y,z = x.split('-')\n",
    "            a = y.replace(y[:3], '3')\n",
    "            b = ((2016 - int(z[-5:]))*12)\n",
    "            c = int(a) + b\n",
    "            new_list.append(c)\n",
    "        elif x[:3] == 'Nov':\n",
    "            y,z = x.split('-')\n",
    "            a = y.replace(y[:3], '2')\n",
    "            b = ((2016 - int(z[-5:]))*12)\n",
    "            c = int(a) + b\n",
    "            new_list.append(c)\n",
    "        elif x[:3] == 'Dec':\n",
    "            y,z = x.split('-')\n",
    "            a = y.replace(y[:3], '1')\n",
    "            b = ((2016 - int(z[-5:]))*12)\n",
    "            c = int(a) + b\n",
    "            new_list.append(c)\n",
    "        else:\n",
    "            a = x.replace(x, '0')\n",
    "            new_list.append(a)"
   ]
  },
  {
   "cell_type": "code",
   "execution_count": 186,
   "metadata": {},
   "outputs": [],
   "source": [
    "#Change variables with dates to distance in months to January 2017\n",
    "issue_list = []\n",
    "data_3['issue_d'] = data_3['issue_d'].replace(np.nan, ' ', regex=True)\n",
    "date_func(data_3, data_3['issue_d'], issue_list)\n",
    "data_3['issue_date'] = np.asarray(issue_list)\n",
    "data_4 = data_3.drop(['issue_d'], axis=1)"
   ]
  },
  {
   "cell_type": "code",
   "execution_count": 187,
   "metadata": {},
   "outputs": [],
   "source": [
    "cr_list = []\n",
    "data_4['earliest_cr_line'] = data_4['earliest_cr_line'].replace(np.nan, ' ', regex=True)\n",
    "date_func(data_4, data_4['earliest_cr_line'], cr_list)\n",
    "data_4['earliest_credit_line'] = np.asarray(cr_list)\n",
    "data_5 = data_4.drop(['earliest_cr_line'], axis=1)"
   ]
  },
  {
   "cell_type": "code",
   "execution_count": 188,
   "metadata": {},
   "outputs": [],
   "source": [
    "last_list = []\n",
    "data_5['last_pymnt_d'] = data_5['last_pymnt_d'].replace(np.nan, ' ', regex=True)\n",
    "date_func(data_5, data_5['last_pymnt_d'], last_list)\n",
    "data_5['last_payment'] = np.asarray(last_list)\n",
    "data_6 = data_5.drop(['last_pymnt_d'], axis=1)"
   ]
  },
  {
   "cell_type": "code",
   "execution_count": 189,
   "metadata": {},
   "outputs": [],
   "source": [
    "next_list = []\n",
    "data_6['next_pymnt_d'] = data_6['next_pymnt_d'].replace(np.nan, ' ', regex=True)\n",
    "date_func(data_6, data_6['next_pymnt_d'], next_list)\n",
    "data_6['next_payment'] = np.asarray(next_list)\n",
    "data_7 = data_6.drop(['next_pymnt_d'], axis=1)"
   ]
  },
  {
   "cell_type": "code",
   "execution_count": 190,
   "metadata": {},
   "outputs": [],
   "source": [
    "last_credit_list = []\n",
    "data_7['last_credit_pull_d'] = data_7['last_credit_pull_d'].replace(np.nan, ' ', regex=True)\n",
    "date_func(data_7, data_7['last_credit_pull_d'], last_credit_list)\n",
    "data_7['last_credit'] = np.asarray(last_credit_list)\n",
    "data_8 = data_7.drop(['last_credit_pull_d'], axis=1)"
   ]
  },
  {
   "cell_type": "code",
   "execution_count": 191,
   "metadata": {},
   "outputs": [],
   "source": [
    "#Drop all variables with more than 50% missing values\n",
    "large_missing = []\n",
    "for column in data_8:\n",
    "    h = data_8[column]\n",
    "    count = h.isnull().sum()\n",
    "    if (887379 - count)/887379 <= .5:\n",
    "        large_missing.append(column)\n",
    "    else:\n",
    "        pass"
   ]
  },
  {
   "cell_type": "code",
   "execution_count": 192,
   "metadata": {},
   "outputs": [],
   "source": [
    "data_9 = data_8.drop(large_missing, axis=1)"
   ]
  },
  {
   "cell_type": "code",
   "execution_count": 193,
   "metadata": {},
   "outputs": [],
   "source": [
    "#This takes too long to run, so I'm going to comment it out and instead drop missing values.  Ideally, I would fill with mean,\n",
    "#but the computer I'm using can't handle this code\n",
    "#data_10 = data_9.fillna(data_9.mean())"
   ]
  },
  {
   "cell_type": "code",
   "execution_count": 194,
   "metadata": {},
   "outputs": [],
   "source": [
    "data_10 = data_9.dropna(axis=0)"
   ]
  },
  {
   "cell_type": "code",
   "execution_count": 195,
   "metadata": {},
   "outputs": [],
   "source": [
    "#Get rid of loan status dummies used for visualization but not for modeling \n",
    "loan_status_list = ['loan_status_Charged Off', 'loan_status_Current', 'loan_status_Default', 'loan_status_Does not meet the credit policy. Status:Charged Off', 'loan_status_Does not meet the credit policy. Status:Fully Paid', 'loan_status_Fully Paid', 'loan_status_In Grace Period', 'loan_status_Issued', 'loan_status_Late (16-30 days)', 'loan_status_Late (31-120 days)']\n",
    "data_18 = data_10.drop(loan_status_list, axis=1)"
   ]
  },
  {
   "cell_type": "markdown",
   "metadata": {},
   "source": [
    "## Visualize the Data"
   ]
  },
  {
   "cell_type": "code",
   "execution_count": 197,
   "metadata": {},
   "outputs": [
    {
     "data": {
      "text/plain": [
       "<seaborn.axisgrid.FacetGrid at 0x20e5fceca20>"
      ]
     },
     "execution_count": 197,
     "metadata": {},
     "output_type": "execute_result"
    },
    {
     "data": {
      "image/png": "[encoded data removed]",
      "text/plain": [
       "<Figure size 1512x432 with 14 Axes>"
      ]
     },
     "metadata": {
      "needs_background": "light"
     },
     "output_type": "display_data"
    }
   ],
   "source": [
    "#View relationships between fully paid loans, grade and loan_amnt\n",
    "g = sns.FacetGrid(data_2, row=\"loan_status_Fully Paid\", col=\"grade\", margin_titles=True)\n",
    "g.map(plt.hist, \"loan_amnt\", color=\"steelblue\")"
   ]
  },
  {
   "cell_type": "markdown",
   "metadata": {},
   "source": [
    "Not a lot of useful information readily visible here, although it does seem like there are more loans paid off that were given higher grades (A, B, or C) than lower grades"
   ]
  },
  {
   "cell_type": "code",
   "execution_count": 198,
   "metadata": {},
   "outputs": [
    {
     "name": "stderr",
     "output_type": "stream",
     "text": [
      "C:\\Users\\Public\\Anaconda\\lib\\site-packages\\scipy\\stats\\stats.py:1713: FutureWarning: Using a non-tuple sequence for multidimensional indexing is deprecated; use `arr[tuple(seq)]` instead of `arr[seq]`. In the future this will be interpreted as an array index, `arr[np.array(seq)]`, which will result either in an error or a different result.\n",
      "  return np.add.reduce(sorted[indexer] * weights, axis=axis) / sumval\n"
     ]
    },
    {
     "data": {
      "text/plain": [
       "[Text(0,0,'Fully Paid'),\n",
       " Text(0,0,'Charged Off'),\n",
       " Text(0,0,'Fully Paid'),\n",
       " Text(0,0,'Fully Paid'),\n",
       " Text(0,0,'Current'),\n",
       " Text(0,0,'Fully Paid'),\n",
       " Text(0,0,'Current'),\n",
       " Text(0,0,'Fully Paid'),\n",
       " Text(0,0,'Charged Off'),\n",
       " Text(0,0,'Charged Off')]"
      ]
     },
     "execution_count": 198,
     "metadata": {},
     "output_type": "execute_result"
    },
    {
     "data": {
      "image/png": "[encoded data removed]",
      "text/plain": [
       "<Figure size 432x288 with 1 Axes>"
      ]
     },
     "metadata": {
      "needs_background": "light"
     },
     "output_type": "display_data"
    }
   ],
   "source": [
    "f = sns.barplot(data_2.loan_status, data_2.loan_amnt)\n",
    "f.set_xticklabels(rotation=40, labels=data_2.loan_status)"
   ]
  },
  {
   "cell_type": "markdown",
   "metadata": {},
   "source": [
    "There seems to be a relationship between the size of the loan and whether or not it has been fully paid off or charged off"
   ]
  },
  {
   "cell_type": "code",
   "execution_count": 199,
   "metadata": {},
   "outputs": [
    {
     "name": "stderr",
     "output_type": "stream",
     "text": [
      "C:\\Users\\Public\\Anaconda\\lib\\site-packages\\scipy\\stats\\stats.py:1713: FutureWarning: Using a non-tuple sequence for multidimensional indexing is deprecated; use `arr[tuple(seq)]` instead of `arr[seq]`. In the future this will be interpreted as an array index, `arr[np.array(seq)]`, which will result either in an error or a different result.\n",
      "  return np.add.reduce(sorted[indexer] * weights, axis=axis) / sumval\n"
     ]
    },
    {
     "data": {
      "text/plain": [
       "[Text(0,0,'Fully Paid'),\n",
       " Text(0,0,'Charged Off'),\n",
       " Text(0,0,'Fully Paid'),\n",
       " Text(0,0,'Fully Paid'),\n",
       " Text(0,0,'Current'),\n",
       " Text(0,0,'Fully Paid'),\n",
       " Text(0,0,'Current'),\n",
       " Text(0,0,'Fully Paid'),\n",
       " Text(0,0,'Charged Off'),\n",
       " Text(0,0,'Charged Off')]"
      ]
     },
     "execution_count": 199,
     "metadata": {},
     "output_type": "execute_result"
    },
    {
     "data": {
      "image/png": "[encoded data removed]",
      "text/plain": [
       "<Figure size 432x288 with 1 Axes>"
      ]
     },
     "metadata": {
      "needs_background": "light"
     },
     "output_type": "display_data"
    }
   ],
   "source": [
    "#Show relationship between issue date and loan_status\n",
    "e = sns.barplot(data_2.loan_status, data_4.issue_date)\n",
    "e.set_xticklabels(rotation=40, labels=data_2.loan_status)"
   ]
  },
  {
   "cell_type": "markdown",
   "metadata": {},
   "source": [
    "Clear relationship between the time passed since loan was taken out and whether or not the loan was fully paid or charged off"
   ]
  },
  {
   "cell_type": "code",
   "execution_count": 200,
   "metadata": {},
   "outputs": [],
   "source": [
    "#Show relationship between grade and loan status\n",
    "data_11 = data_10.groupby([\"loan_status_Fully Paid\", \"grade_A\"]).size().reset_index(name=\"A_count\")\n",
    "A_percent = (data_11['A_count'].iloc[3]/(data_11['A_count'].iloc[3]+data_11['A_count'].iloc[1]))*100\n",
    "data_12 = data_10.groupby([\"loan_status_Fully Paid\", \"grade_B\"]).size().reset_index(name=\"B_count\")\n",
    "B_percent = (data_12['B_count'].iloc[3]/(data_12['B_count'].iloc[3]+data_12['B_count'].iloc[1]))*100\n",
    "data_13 = data_10.groupby([\"loan_status_Fully Paid\", \"grade_C\"]).size().reset_index(name=\"C_count\")\n",
    "C_percent = (data_13['C_count'].iloc[3]/(data_13['C_count'].iloc[3]+data_13['C_count'].iloc[1]))*100\n",
    "data_14 = data_10.groupby([\"loan_status_Fully Paid\", \"grade_D\"]).size().reset_index(name=\"D_count\")\n",
    "D_percent = (data_14['D_count'].iloc[3]/(data_14['D_count'].iloc[3]+data_14['D_count'].iloc[1]))*100\n",
    "data_15 = data_10.groupby([\"loan_status_Fully Paid\", \"grade_E\"]).size().reset_index(name=\"E_count\")\n",
    "E_percent = (data_15['E_count'].iloc[3]/(data_15['E_count'].iloc[3]+data_15['E_count'].iloc[1]))*100\n",
    "data_16 = data_10.groupby([\"loan_status_Fully Paid\", \"grade_F\"]).size().reset_index(name=\"F_count\")\n",
    "F_percent = (data_16['F_count'].iloc[3]/(data_16['F_count'].iloc[3]+data_16['F_count'].iloc[1]))*100\n",
    "data_17 = data_10.groupby([\"loan_status_Fully Paid\", \"grade_G\"]).size().reset_index(name=\"G_count\")\n",
    "G_percent = (data_17['G_count'].iloc[3]/(data_17['G_count'].iloc[3]+data_17['G_count'].iloc[1]))*100\n",
    "percentages = ['A_percent', 'B_percent', 'C_percent', 'D_percent', 'E_percent', 'F_percent', 'G_percent']"
   ]
  },
  {
   "cell_type": "code",
   "execution_count": 201,
   "metadata": {},
   "outputs": [
    {
     "name": "stdout",
     "output_type": "stream",
     "text": [
      "18.432145357153725\n",
      "20.97999776511342\n",
      "18.17116263780941\n",
      "18.31972893885723\n",
      "15.729823599305364\n",
      "18.344794877875266\n",
      "18.664454583160513\n"
     ]
    }
   ],
   "source": [
    "print(A_percent)\n",
    "print(B_percent)\n",
    "print(C_percent)\n",
    "print(D_percent)\n",
    "print(E_percent)\n",
    "print(F_percent)\n",
    "print(G_percent)"
   ]
  },
  {
   "cell_type": "markdown",
   "metadata": {},
   "source": [
    "No clear relationship between grade and whether or not the loan was fully paid, although B grades seem to be more likely to fully repay and E grades seem to be less likely"
   ]
  },
  {
   "cell_type": "markdown",
   "metadata": {},
   "source": [
    "## Modeling"
   ]
  },
  {
   "cell_type": "code",
   "execution_count": 202,
   "metadata": {},
   "outputs": [],
   "source": [
    "#Change loan status variables from dummy variables to one variable with numbers instead of words\n",
    "new_loan_status = []\n",
    "for name in data_18['loan_status']:\n",
    "    if name == 'Charged Off':\n",
    "        q = name.replace(name, '0')\n",
    "        new_loan_status.append(q)\n",
    "    elif name == 'Current':\n",
    "        q = name.replace(name, '1')\n",
    "        new_loan_status.append(q)\n",
    "    elif name == 'Default':\n",
    "        q = name.replace(name, '2')\n",
    "        new_loan_status.append(q)\n",
    "    elif name == 'Does not meet the credit policy. Status:Charged Off':\n",
    "        q = name.replace(name, '3')\n",
    "        new_loan_status.append(q)\n",
    "    elif name == 'Does not meet the credit policy. Status:Fully Paid':\n",
    "        q = name.replace(name, '4')\n",
    "        new_loan_status.append(q)\n",
    "    elif name == 'Fully Paid':\n",
    "        q = name.replace(name, '5')\n",
    "        new_loan_status.append(q)\n",
    "    elif name == 'In Grace Period':\n",
    "        q = name.replace(name, '6')\n",
    "        new_loan_status.append(q)\n",
    "    elif name == 'Issued':\n",
    "        q = name.replace(name, '7')\n",
    "        new_loan_status.append(q)\n",
    "    elif name == 'Late (16-30 days)':\n",
    "        q = name.replace(name, '8')\n",
    "        new_loan_status.append(q)\n",
    "    elif name == 'Late (31-120 days)':\n",
    "        q = name.replace(name, '9')\n",
    "        new_loan_status.append(q)\n",
    "    else:\n",
    "        print(\"error\")"
   ]
  },
  {
   "cell_type": "code",
   "execution_count": 203,
   "metadata": {},
   "outputs": [],
   "source": [
    "data_18['new_loan_status'] = np.asarray(new_loan_status)\n",
    "data_19 = data_18.drop(['loan_status'], axis=1)"
   ]
  },
  {
   "cell_type": "code",
   "execution_count": 204,
   "metadata": {},
   "outputs": [],
   "source": [
    "#Split the data into test and train sets to test the model with loan status as the predicted value\n",
    "train_x, test_x, train_y, test_y = train_test_split(data_19[data_19.columns], data_19['new_loan_status'], test_size=0.33, random_state=42)"
   ]
  },
  {
   "cell_type": "code",
   "execution_count": 205,
   "metadata": {},
   "outputs": [
    {
     "data": {
      "text/plain": [
       "RandomForestRegressor(bootstrap=True, criterion='mse', max_depth=None,\n",
       "           max_features='auto', max_leaf_nodes=None,\n",
       "           min_impurity_decrease=0.0, min_impurity_split=None,\n",
       "           min_samples_leaf=1, min_samples_split=2,\n",
       "           min_weight_fraction_leaf=0.0, n_estimators=10, n_jobs=1,\n",
       "           oob_score=False, random_state=None, verbose=0, warm_start=False)"
      ]
     },
     "execution_count": 205,
     "metadata": {},
     "output_type": "execute_result"
    }
   ],
   "source": [
    "#Create a simple random forest model and fit it to the train split\n",
    "model = RandomForestRegressor()\n",
    "model.fit(train_x, train_y)"
   ]
  },
  {
   "cell_type": "code",
   "execution_count": 206,
   "metadata": {},
   "outputs": [
    {
     "name": "stdout",
     "output_type": "stream",
     "text": [
      "Train RMSE 0.0\n",
      "Test RMSE 0.0\n"
     ]
    }
   ],
   "source": [
    "#Check the RMSE of the train and test data to check for model accuracy\n",
    "train_predict = model.predict(train_x)\n",
    "test_predict = model.predict(test_x)\n",
    "print(\"Train RMSE {}\".format(np.sqrt(mean_squared_error(train_y, train_predict))))\n",
    "print(\"Test RMSE {}\".format(np.sqrt(mean_squared_error(test_y, test_predict))))"
   ]
  },
  {
   "cell_type": "markdown",
   "metadata": {},
   "source": [
    "The Random Forest Regressor seemed to have worked, but is clearly overfitting the data far too much"
   ]
  },
  {
   "cell_type": "code",
   "execution_count": 208,
   "metadata": {},
   "outputs": [],
   "source": [
    "data_20 = data_19.drop(['new_loan_status'], axis=1)\n",
    "model.fit(data_20, data_19.new_loan_status)\n",
    "final = model.predict(data_20)\n",
    "submit_1 = pd.DataFrame({'id': data_20.id, 'loan_status': final})"
   ]
  }
 ],
 "metadata": {
  "kernelspec": {
   "display_name": "Python 3",
   "language": "python",
   "name": "python3"
  },
  "language_info": {
   "codemirror_mode": {
    "name": "ipython",
    "version": 3
   },
   "file_extension": ".py",
   "mimetype": "text/x-python",
   "name": "python",
   "nbconvert_exporter": "python",
   "pygments_lexer": "ipython3",
   "version": "3.7.0"
  }
 },
 "nbformat": 4,
 "nbformat_minor": 2
}
